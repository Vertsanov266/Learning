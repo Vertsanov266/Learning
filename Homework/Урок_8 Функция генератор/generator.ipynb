{
 "cells": [
  {
   "cell_type": "code",
   "execution_count": null,
   "metadata": {},
   "outputs": [
    {
     "name": "stdout",
     "output_type": "stream",
     "text": [
      "1\n",
      "3\n",
      "5\n",
      "7\n",
      "9\n",
      "11\n",
      "13\n",
      "15\n",
      "17\n"
     ]
    }
   ],
   "source": [
    "def progression(limit=100):\n",
    "    n = 2\n",
    "    num = 1\n",
    "    count = 1\n",
    "    while count < limit:\n",
    "        yield num\n",
    "        num += n\n",
    "        count += 1\n",
    "\n",
    "# for number in progression(10):\n",
    "#     print(number)\n",
    "# print(list(progression(10)))\n",
    "\n",
    "count = 1\n",
    "for number in progression(100):\n",
    "    if count < 10:\n",
    "        print(number)\n",
    "        \n",
    "    count += 1"
   ]
  }
 ],
 "metadata": {
  "kernelspec": {
   "display_name": "Python 3",
   "language": "python",
   "name": "python3"
  },
  "language_info": {
   "codemirror_mode": {
    "name": "ipython",
    "version": 3
   },
   "file_extension": ".py",
   "mimetype": "text/x-python",
   "name": "python",
   "nbconvert_exporter": "python",
   "pygments_lexer": "ipython3",
   "version": "3.13.1"
  }
 },
 "nbformat": 4,
 "nbformat_minor": 2
}
