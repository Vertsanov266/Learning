{
 "cells": [
  {
   "cell_type": "markdown",
   "metadata": {},
   "source": [
    "# Условия"
   ]
  },
  {
   "cell_type": "code",
   "execution_count": 3,
   "metadata": {},
   "outputs": [
    {
     "name": "stdout",
     "output_type": "stream",
     "text": [
      "wrong olds, please enter number\n"
     ]
    }
   ],
   "source": [
    "user_input = input('Your olds?')\n",
    "if user_input.isnumeric():\n",
    "    user_input = int(user_input)\n",
    "    if user_input <= 18:\n",
    "        print('not pass')\n",
    "    else:\n",
    "        print('success')\n",
    "else:\n",
    "    print('wrong olds, please enter number')"
   ]
  }
 ],
 "metadata": {
  "kernelspec": {
   "display_name": "Python 3",
   "language": "python",
   "name": "python3"
  },
  "language_info": {
   "codemirror_mode": {
    "name": "ipython",
    "version": 3
   },
   "file_extension": ".py",
   "mimetype": "text/x-python",
   "name": "python",
   "nbconvert_exporter": "python",
   "pygments_lexer": "ipython3",
   "version": "3.13.1"
  }
 },
 "nbformat": 4,
 "nbformat_minor": 2
}
